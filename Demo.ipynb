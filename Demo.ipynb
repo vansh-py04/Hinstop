{
 "cells": [
  {
   "cell_type": "markdown",
   "id": "ccd048e7",
   "metadata": {},
   "source": [
    "List of default Stopwords from https://github.com/stopwords-iso/stopwords-hi/blob/master/stopwords-hi.txt"
   ]
  },
  {
   "cell_type": "code",
   "execution_count": 4,
   "id": "54f641c8",
   "metadata": {},
   "outputs": [
    {
     "data": {
      "text/plain": [
       "{'अंदर',\n",
       " 'अत',\n",
       " 'अदि',\n",
       " 'अप',\n",
       " 'अपना',\n",
       " 'अपनि',\n",
       " 'अपनी',\n",
       " 'अपने',\n",
       " 'अभि',\n",
       " 'अभी',\n",
       " 'आदि',\n",
       " 'आप',\n",
       " 'इंहिं',\n",
       " 'इंहें',\n",
       " 'इंहों',\n",
       " 'इतयादि',\n",
       " 'इत्यादि',\n",
       " 'इन',\n",
       " 'इनका',\n",
       " 'इन्हीं',\n",
       " 'इन्हें',\n",
       " 'इन्हों',\n",
       " 'इस',\n",
       " 'इसका',\n",
       " 'इसकि',\n",
       " 'इसकी',\n",
       " 'इसके',\n",
       " 'इसमें',\n",
       " 'इसि',\n",
       " 'इसी',\n",
       " 'इसे',\n",
       " 'उंहिं',\n",
       " 'उंहें',\n",
       " 'उंहों',\n",
       " 'उन',\n",
       " 'उनका',\n",
       " 'उनकि',\n",
       " 'उनकी',\n",
       " 'उनके',\n",
       " 'उनको',\n",
       " 'उन्हीं',\n",
       " 'उन्हें',\n",
       " 'उन्हों',\n",
       " 'उस',\n",
       " 'उसके',\n",
       " 'उसि',\n",
       " 'उसी',\n",
       " 'उसे',\n",
       " 'एक',\n",
       " 'एवं',\n",
       " 'एस',\n",
       " 'एसे',\n",
       " 'ऐसे',\n",
       " 'ओर',\n",
       " 'और',\n",
       " 'कइ',\n",
       " 'कई',\n",
       " 'कर',\n",
       " 'करता',\n",
       " 'करते',\n",
       " 'करना',\n",
       " 'करने',\n",
       " 'करें',\n",
       " 'कहते',\n",
       " 'कहा',\n",
       " 'का',\n",
       " 'काफि',\n",
       " 'काफ़ी',\n",
       " 'कि',\n",
       " 'किंहें',\n",
       " 'किंहों',\n",
       " 'कितना',\n",
       " 'किन्हें',\n",
       " 'किन्हों',\n",
       " 'किया',\n",
       " 'किर',\n",
       " 'किस',\n",
       " 'किसि',\n",
       " 'किसी',\n",
       " 'किसे',\n",
       " 'की',\n",
       " 'कुछ',\n",
       " 'कुल',\n",
       " 'के',\n",
       " 'को',\n",
       " 'कोइ',\n",
       " 'कोई',\n",
       " 'कोन',\n",
       " 'कोनसा',\n",
       " 'कौन',\n",
       " 'कौनसा',\n",
       " 'गया',\n",
       " 'घर',\n",
       " 'जब',\n",
       " 'जहाँ',\n",
       " 'जहां',\n",
       " 'जा',\n",
       " 'जिंहें',\n",
       " 'जिंहों',\n",
       " 'जितना',\n",
       " 'जिधर',\n",
       " 'जिन',\n",
       " 'जिन्हें',\n",
       " 'जिन्हों',\n",
       " 'जिस',\n",
       " 'जिसे',\n",
       " 'जीधर',\n",
       " 'जेसा',\n",
       " 'जेसे',\n",
       " 'जैसा',\n",
       " 'जैसे',\n",
       " 'जो',\n",
       " 'तक',\n",
       " 'तब',\n",
       " 'तरह',\n",
       " 'तिंहें',\n",
       " 'तिंहों',\n",
       " 'तिन',\n",
       " 'तिन्हें',\n",
       " 'तिन्हों',\n",
       " 'तिस',\n",
       " 'तिसे',\n",
       " 'तो',\n",
       " 'था',\n",
       " 'थि',\n",
       " 'थी',\n",
       " 'थे',\n",
       " 'दबारा',\n",
       " 'दवारा',\n",
       " 'दिया',\n",
       " 'दुसरा',\n",
       " 'दुसरे',\n",
       " 'दूसरे',\n",
       " 'दो',\n",
       " 'द्वारा',\n",
       " 'न',\n",
       " 'नहिं',\n",
       " 'नहीं',\n",
       " 'ना',\n",
       " 'निचे',\n",
       " 'निहायत',\n",
       " 'नीचे',\n",
       " 'ने',\n",
       " 'पर',\n",
       " 'पहले',\n",
       " 'पुरा',\n",
       " 'पूरा',\n",
       " 'पे',\n",
       " 'फिर',\n",
       " 'बनि',\n",
       " 'बनी',\n",
       " 'बहि',\n",
       " 'बही',\n",
       " 'बहुत',\n",
       " 'बाद',\n",
       " 'बाला',\n",
       " 'बिलकुल',\n",
       " 'भि',\n",
       " 'भितर',\n",
       " 'भी',\n",
       " 'भीतर',\n",
       " 'मगर',\n",
       " 'मानो',\n",
       " 'मे',\n",
       " 'में',\n",
       " 'यदि',\n",
       " 'यह',\n",
       " 'यहाँ',\n",
       " 'यहां',\n",
       " 'यहि',\n",
       " 'यही',\n",
       " 'या',\n",
       " 'यिह',\n",
       " 'ये',\n",
       " 'रखें',\n",
       " 'रवासा',\n",
       " 'रहा',\n",
       " 'रहे',\n",
       " 'ऱ्वासा',\n",
       " 'लिए',\n",
       " 'लिये',\n",
       " 'लेकिन',\n",
       " 'व',\n",
       " 'वगेरह',\n",
       " 'वरग',\n",
       " 'वर्ग',\n",
       " 'वह',\n",
       " 'वहाँ',\n",
       " 'वहां',\n",
       " 'वहिं',\n",
       " 'वहीं',\n",
       " 'वाले',\n",
       " 'वुह',\n",
       " 'वे',\n",
       " 'वग़ैरह',\n",
       " 'संग',\n",
       " 'सकता',\n",
       " 'सकते',\n",
       " 'सबसे',\n",
       " 'सभि',\n",
       " 'सभी',\n",
       " 'साथ',\n",
       " 'साबुत',\n",
       " 'साभ',\n",
       " 'सारा',\n",
       " 'से',\n",
       " 'सो',\n",
       " 'हि',\n",
       " 'ही',\n",
       " 'हुअ',\n",
       " 'हुआ',\n",
       " 'हुइ',\n",
       " 'हुई',\n",
       " 'हुए',\n",
       " 'हे',\n",
       " 'हें',\n",
       " 'है',\n",
       " 'हैं',\n",
       " 'हो',\n",
       " 'होता',\n",
       " 'होति',\n",
       " 'होती',\n",
       " 'होते',\n",
       " 'होना',\n",
       " 'होने'}"
      ]
     },
     "execution_count": 4,
     "metadata": {},
     "output_type": "execute_result"
    }
   ],
   "source": [
    "from Hinstop.utils.loader import *\n",
    "\n",
    "l = load_stopwords()\n",
    "l"
   ]
  },
  {
   "cell_type": "markdown",
   "id": "133027c8",
   "metadata": {},
   "source": [
    "Removal of stopwords from Hindi text"
   ]
  },
  {
   "cell_type": "code",
   "execution_count": 6,
   "id": "2440690d",
   "metadata": {},
   "outputs": [],
   "source": [
    "from Hinstop.processor import StopwordRemover, Analyzer"
   ]
  },
  {
   "cell_type": "code",
   "execution_count": 7,
   "id": "d0ecf229",
   "metadata": {},
   "outputs": [],
   "source": [
    "# Sample Hindi text\n",
    "text = \"यह एक बहुत अच्छा दिन है लेकिन थोड़ी परेशानी भी थी। सब कुछ मिलाकर यह अनुभव संतोषजनक था।\""
   ]
  },
  {
   "cell_type": "markdown",
   "id": "524cf89a",
   "metadata": {},
   "source": [
    "## Stopword Removal"
   ]
  },
  {
   "cell_type": "code",
   "execution_count": 8,
   "id": "25306212",
   "metadata": {},
   "outputs": [
    {
     "name": "stdout",
     "output_type": "stream",
     "text": [
      "Original Text:\n",
      "यह एक बहुत अच्छा दिन है लेकिन थोड़ी परेशानी भी थी। सब कुछ मिलाकर यह अनुभव संतोषजनक था।\n",
      "\n",
      "Cleaned Text (Stopwords Removed):\n",
      "अच्छा दिन थोड़ी परेशानी । सब मिलाकर अनुभव संतोषजनक ।\n",
      "\n",
      "Stopword Coverage: 50.00%\n"
     ]
    }
   ],
   "source": [
    "# Initialize the StopwordRemover\n",
    "remover = StopwordRemover(method=\"default\")\n",
    "\n",
    "# Remove stopwords and calculate coverage\n",
    "cleaned_text = remover.remove(text)\n",
    "coverage = remover.coverage(text)\n",
    "\n",
    "print(\"Original Text:\")\n",
    "print(text)\n",
    "print(\"\\nCleaned Text (Stopwords Removed):\")\n",
    "print(cleaned_text)\n",
    "print(f\"\\nStopword Coverage: {coverage:.2%}\")\n"
   ]
  },
  {
   "cell_type": "code",
   "execution_count": 5,
   "id": "1e877f4d",
   "metadata": {},
   "outputs": [
    {
     "name": "stdout",
     "output_type": "stream",
     "text": [
      "उदाहरण वाक्य हमें परीक्षण उपयोग ।\n"
     ]
    }
   ],
   "source": [
    "from Hinstop.processor import StopwordRemover\n",
    "\n",
    "remover = StopwordRemover(method=\"default\")\n",
    "text = \"यह एक उदाहरण वाक्य है जिसे हमें परीक्षण के लिए उपयोग करना है।\"\n",
    "print(remover.remove(text))"
   ]
  },
  {
   "cell_type": "markdown",
   "id": "745c2100",
   "metadata": {},
   "source": [
    "## Sentiment Analysis"
   ]
  },
  {
   "cell_type": "code",
   "execution_count": 9,
   "id": "cd6dc6ed",
   "metadata": {},
   "outputs": [],
   "source": [
    "# Define simple positive and negative word lists\n",
    "positive_words = [\"अच्छा\", \"संतोषजनक\", \"खुश\", \"शानदार\"]\n",
    "negative_words = [\"परेशानी\", \"दुख\", \"खराब\", \"बुरा\"]\n",
    "\n",
    "# Initialize Analyzer with sentiment words\n",
    "analyzer = Analyzer(\n",
    "    method=\"default\",\n",
    "    positive_words=positive_words,\n",
    "    negative_words=negative_words\n",
    ")"
   ]
  },
  {
   "cell_type": "code",
   "execution_count": 10,
   "id": "60cd31a1",
   "metadata": {},
   "outputs": [
    {
     "name": "stdout",
     "output_type": "stream",
     "text": [
      "Cleaned Text:\n",
      "अच्छा दिन थोड़ी परेशानी । सब मिलाकर अनुभव संतोषजनक ।\n",
      "\n",
      "Sentiment Analysis:\n",
      "Label: positive\n",
      "Score: 0.6666666666666666\n",
      "Positive Count: 2\n",
      "Negative Count: 1\n",
      "\n",
      "Stopword Coverage: 50.00%\n"
     ]
    }
   ],
   "source": [
    "# Analyze the full text\n",
    "result = analyzer.analyze(text)\n",
    "\n",
    "print(\"Cleaned Text:\")\n",
    "print(result[\"cleaned\"])\n",
    "\n",
    "print(\"\\nSentiment Analysis:\")\n",
    "print(f\"Label: {result['sentiment']['Label']}\")\n",
    "print(f\"Score: {result['sentiment']['Score']}\")\n",
    "print(f\"Positive Count: {result['sentiment']['Positive Count']}\")\n",
    "print(f\"Negative Count: {result['sentiment']['Negative Count']}\")\n",
    "\n",
    "print(f\"\\nStopword Coverage: {result['coverage']:.2%}\")\n"
   ]
  },
  {
   "cell_type": "markdown",
   "id": "0f5c939d",
   "metadata": {},
   "source": [
    "Format for result"
   ]
  },
  {
   "cell_type": "code",
   "execution_count": 11,
   "id": "578d4b31",
   "metadata": {},
   "outputs": [
    {
     "data": {
      "text/plain": [
       "{'cleaned': 'अच्छा दिन थोड़ी परेशानी । सब मिलाकर अनुभव संतोषजनक ।',\n",
       " 'coverage': 0.5,\n",
       " 'sentiment': {'Score': 0.6666666666666666,\n",
       "  'Label': 'positive',\n",
       "  'Positive Count': 2,\n",
       "  'Negative Count': 1}}"
      ]
     },
     "execution_count": 11,
     "metadata": {},
     "output_type": "execute_result"
    }
   ],
   "source": [
    "result"
   ]
  },
  {
   "cell_type": "code",
   "execution_count": null,
   "id": "6f5cc4c6",
   "metadata": {},
   "outputs": [],
   "source": []
  }
 ],
 "metadata": {
  "kernelspec": {
   "display_name": "Python 3",
   "language": "python",
   "name": "python3"
  },
  "language_info": {
   "codemirror_mode": {
    "name": "ipython",
    "version": 3
   },
   "file_extension": ".py",
   "mimetype": "text/x-python",
   "name": "python",
   "nbconvert_exporter": "python",
   "pygments_lexer": "ipython3",
   "version": "3.11.9"
  }
 },
 "nbformat": 4,
 "nbformat_minor": 5
}
